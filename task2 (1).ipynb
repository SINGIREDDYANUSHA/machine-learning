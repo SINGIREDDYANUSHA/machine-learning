{
  "nbformat": 4,
  "nbformat_minor": 0,
  "metadata": {
    "colab": {
      "name": "task2.ipynb",
      "provenance": []
    },
    "kernelspec": {
      "name": "python3",
      "display_name": "Python 3"
    }
  },
  "cells": [
    {
      "cell_type": "code",
      "metadata": {
        "id": "0Bc7I5IpYwyP",
        "colab_type": "code",
        "outputId": "cc6b98da-38f2-4ea8-bbe7-020aabca5b0a",
        "colab": {
          "base_uri": "https://localhost:8080/",
          "height": 362
        }
      },
      "source": [
        "import requests\n",
        "url=\"https://calendarific.com/api/v2/holidays?&=c1ac7a5c623ab58api_key327192b5d847a34519143996f&year=2020&country=\"\n",
        "while(1):\n",
        "  country=input(\"Give country name :\")\n",
        "  my_url=url+country\n",
        "  responses=requests.get(my_url)\n",
        "  Description=responses.content\n",
        "  print(\"Holidays description:\\n\\n\",Description)\n",
        "  print(\"\\n\")\n"
      ],
      "execution_count": 0,
      "outputs": [
        {
          "output_type": "stream",
          "text": [
            "Give country name :us\n",
            "Holidays description:\n",
            "\n",
            " b'\\n{\"meta\":{\"code\":401,\"error_type\":\"auth failed\",\"error_detail\":\"Missing or invalid api credentials. See https:\\\\/\\\\/calendarific.com\\\\/api for details.\"},\"response\":[]}'\n",
            "\n",
            "\n",
            "Give country name :IN\n",
            "Holidays description:\n",
            "\n",
            " b'\\n{\"meta\":{\"code\":401,\"error_type\":\"auth failed\",\"error_detail\":\"Missing or invalid api credentials. See https:\\\\/\\\\/calendarific.com\\\\/api for details.\"},\"response\":[]}'\n",
            "\n",
            "\n",
            "Give country name :UK\n",
            "Holidays description:\n",
            "\n",
            " b'\\n{\"meta\":{\"code\":401,\"error_type\":\"auth failed\",\"error_detail\":\"Missing or invalid api credentials. See https:\\\\/\\\\/calendarific.com\\\\/api for details.\"},\"response\":[]}'\n",
            "\n",
            "\n"
          ],
          "name": "stdout"
        }
      ]
    }
  ]
}